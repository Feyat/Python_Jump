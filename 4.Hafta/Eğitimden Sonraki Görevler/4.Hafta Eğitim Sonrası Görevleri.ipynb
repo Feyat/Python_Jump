{
 "cells": [
  {
   "cell_type": "markdown",
   "metadata": {},
   "source": [
    "# Problem 1\n",
    "`ogrenciler` adında bir sözlük oluşturunuz. Kullanıcıdan döngü yardımıyla 3 öğrenci için veri girmesini isteyerek öğrencilerin sırasıyla okul numarası, isim, soy isim, telefon numarası ve doğum tarihi bilgilerini alınız. Aldığınız öğrenci bilgilerini yine aynı döngü yardımıyla `ogrenciler` adındaki sözlükte saklayınız. Daha sonra öğrenci bilgilerinin bulunduğu sözlük yapısını ekrana bastırınız.\n",
    "\n"
   ]
  },
  {
   "cell_type": "code",
   "execution_count": 2,
   "metadata": {},
   "outputs": [
    {
     "name": "stdout",
     "output_type": "stream",
     "text": [
      "1 öğrenci bilgisi giriniz.\n",
      "{'Okul Numarası': '243', 'isim': '232', 'soyad': '232', 'telefon numarası': '23', 'doğum tarihi': '23'}\n",
      "2 öğrenci bilgisi giriniz.\n",
      "{'Okul Numarası': '2323', 'isim': '23322', 'soyad': '232', 'telefon numarası': '23', 'doğum tarihi': '223'}\n",
      "3 öğrenci bilgisi giriniz.\n",
      "{'Okul Numarası': '23', 'isim': '23', 'soyad': '2', 'telefon numarası': '23', 'doğum tarihi': '23'}\n"
     ]
    }
   ],
   "source": [
    "# 1.Problemin Çözümünü Buraya Yazınız\n",
    "\n",
    "ogrenciler = {}\n",
    "\n",
    "for i in range(3):\n",
    "    print(f\"{i+1} öğrenci bilgisi giriniz.\")\n",
    "    okulNumarası = input(\"Okul numarinizi giriniz: \")\n",
    "    isim = input(\"İsminizi giriniz: \")\n",
    "    soyad = input(\"Soyadinizi giriniz: \")\n",
    "    tel_numarası = input(\"Telefon numaranızı giriniz: \")\n",
    "    dogum_tarihi = input(\"Doğum tarihinizi giriniz: \")\n",
    "\n",
    "    ogrenciler[i] = {\"Okul Numarası\": okulNumarası, \"isim\": isim, \"soyad\": soyad, \"telefon numarası\": tel_numarası, \"doğum tarihi\":dogum_tarihi }\n",
    "    print(ogrenciler[i])"
   ]
  },
  {
   "cell_type": "markdown",
   "metadata": {},
   "source": [
    "# Problem 2\n",
    "\n",
    "### a - Biraz ısınarak başlayalım!\n",
    "\n",
    "```\n",
    "numbers = [5,10,10,15,15,15,20,20,20,20]\n",
    "```\n",
    "\n",
    "Yukarıda `numbers` adında 10 elemanlı bir liste verilmiştir. Bu listenin her elemanını kontrol eden ve tekrar eden elemanları bir kez olacak şekilde başka bir listeye kopyalayan bir program yazınız. Son olarak oluşturduğunuz listeyi ekrana bastırınız.\n",
    "\n",
    "\n",
    "\n",
    "\n",
    "```\n",
    ">Output\n",
    "[5, 10, 15, 20]\n",
    "```\n"
   ]
  },
  {
   "cell_type": "code",
   "execution_count": 4,
   "metadata": {},
   "outputs": [
    {
     "name": "stdout",
     "output_type": "stream",
     "text": [
      "[5, 10, 15, 20]\n"
     ]
    }
   ],
   "source": [
    "# 2.Problemin a Şıkkının Çözümünü Buraya Yazınız\n",
    "\n",
    "numbers = [5,10,10,15,15,15,20,20,20,20]\n",
    "unigue = []\n",
    "for number in numbers:\n",
    "    if number not in unigue:\n",
    "        unigue.append(number)\n",
    "    \n",
    "print(unigue)\n",
    "\n"
   ]
  },
  {
   "cell_type": "markdown",
   "metadata": {},
   "source": [
    "### 🌶️ b) Hadi işi biraz daha zorlaştıralım! \n",
    "\n",
    "\n",
    "Şimdiyse senden `numbers` isimli listedeki tekrar eden elemanları `repeatNumbers` adındaki listeye; tekrar etmeyen elemanları `uniqueNumbers`adındaki listeye kopyalayan yazmanı ve listeleri ekrana bastırmanı bekliyoruz\n",
    "\n",
    "```\n",
    ">Output\n",
    "Tekrar Eden Elemanlar: [10, 10, 15, 15, 15, 20, 20, 20, 20]\n",
    "Tekrar Etmeyen Elemanlar: [5]\n",
    "```"
   ]
  },
  {
   "cell_type": "code",
   "execution_count": 8,
   "metadata": {},
   "outputs": [
    {
     "name": "stdout",
     "output_type": "stream",
     "text": [
      "Tekrar Etmeyen Elemanlar: [5]\n",
      "Tekrar Eden Elemanlar: [10, 10, 15, 15, 15, 20, 20, 20, 20]\n"
     ]
    }
   ],
   "source": [
    "# 2.Problemin b Şıkkının Çözümünü Buraya Yazınız\n",
    "numbers = [5,10,10,15,15,15,20,20,20,20]\n",
    "\n",
    "repeatNumbers = []\n",
    "unigueNumbers = []\n",
    "\n",
    "for number in numbers:\n",
    "    if numbers.count(number)==1:\n",
    "        unigueNumbers.append(number)\n",
    "    \n",
    "    else:\n",
    "        repeatNumbers.append(number)\n",
    "\n",
    "print(\"Tekrar Etmeyen Elemanlar:\",unigueNumbers)\n",
    "print(\"Tekrar Eden Elemanlar:\", repeatNumbers)"
   ]
  },
  {
   "cell_type": "markdown",
   "metadata": {},
   "source": [
    "# Problem 3\n",
    "sn1 = {1,2,3,4,5}\n",
    "\n",
    "sn2 = {4,5,6,7,8}\n",
    "\n",
    " Verilen 2 adet küme için kesişimlerini, farklarını ve birleşimlerini bulunuz. "
   ]
  },
  {
   "cell_type": "code",
   "execution_count": 12,
   "metadata": {},
   "outputs": [
    {
     "name": "stdout",
     "output_type": "stream",
     "text": [
      "{1, 2, 3, 4, 5, 6, 7, 8}\n",
      "{1, 2, 3}\n",
      "{8, 6, 7}\n",
      "{4, 5}\n",
      "[4, 5]\n",
      "[1, 1, 1, 1, 1, 2, 2, 2, 2, 2, 3, 3, 3, 3, 3, 4, 4, 4, 4, 5, 5, 5, 5]\n"
     ]
    }
   ],
   "source": [
    "# 3.Problemin Çözümünü Buraya Yazınız\n",
    "\n",
    "sn1 = {1,2,3,4,5}\n",
    "sn2 = {4,5,6,7,8}\n",
    "\n",
    "print(sn1 | sn2)\n",
    "print(sn1-sn2)\n",
    "print(sn2-sn1)\n",
    "print(sn1&sn2)\n",
    "\n",
    "kesisim = []\n",
    "fark1 = []\n",
    "fark2 = []\n",
    "birlesim = []\n",
    "\n",
    "\n",
    "for i in sn1:\n",
    "    for a in sn2:\n",
    "        if i==a:\n",
    "            kesisim.append(i)\n",
    "        \n",
    "        else:\n",
    "            birlesim.append(i)\n",
    "\n",
    "print(kesisim) \n",
    "print(birlesim)\n"
   ]
  },
  {
   "cell_type": "markdown",
   "metadata": {},
   "source": [
    "# Problem 4\n",
    "\n",
    "Buradaki işlemlerimizin tamamı stringler içindir. Aşağıda verilecek olan metodlar için kendinizin örnek yaratması gerekmektedir. \n",
    "\n",
    "Örneğin `upper` için `string` değişkeni oluştururken` k = \"BAC\"` şeklinde oluşturmayınız. Bunun yerine k değişkenini `k = \"bac`\" şeklinde oluşturmanız `upper` metodundaki değişimi görebilmeniz için daha iyi olacaktır.\n",
    "\n",
    "Bütün metodlardaki değişimin gözle görülür şekilde değişimi beklenmektedir.\n",
    "\n",
    "\n",
    "1- capitalize(), lower(), upper(), swapcase(), title(), replace()\n",
    "\n",
    "2- endswith(), startswith(), find(), index(), count()\n",
    "\n",
    "3- split(), strip(), join(), islower(), isalpha(), isdigit()\n",
    "\n",
    "\n",
    "Yukarıdaki `string` metodlarındaki değişimleri görebildiğimiz bir program yazınız.\n"
   ]
  },
  {
   "cell_type": "code",
   "execution_count": 13,
   "metadata": {},
   "outputs": [
    {
     "name": "stdout",
     "output_type": "stream",
     "text": [
      "havalanına gidelim ve gelelim.\n",
      "HAVALANINA GIDELIM VE GELELIM.\n",
      "Havalanına gidelim ve gelelim.\n",
      "hAVALANINA GIDELIM ve geLELIM.\n",
      "Havalanına Gidelim Ve Gelelim.\n",
      "Havalanına gidElim VE GElElim.\n",
      "False\n",
      "True\n",
      "1\n",
      "2\n",
      "2\n",
      "['Havalanına', 'gidelim', 'VE', 'GElelim.']\n",
      "Havalanına gidelim VE GElelim.\n",
      "HBaBvBaBlBaBnBıBnBaB BgBiBdBeBlBiBmB BVBEB BGBEBlBeBlBiBmB.\n",
      "False\n",
      "False\n",
      "False\n"
     ]
    }
   ],
   "source": [
    "# 4.Problemin Çözümünü Buraya Yazınız\n",
    "\n",
    "s = \"Havalanına gidelim VE GElelim.\"\n",
    "\n",
    "print(s.lower())              #Tüm harfleri küçük yapar.   \n",
    "print(s.upper())              #Tüm harfleri büyük yapar.\n",
    "print(s.capitalize())         #Sadece ilk cümlenin harfi büyük.\n",
    "print(s.swapcase())           #Büyük küçük, küçük büyük yapar.\n",
    "print(s.title())              #Her kelimenin ilk harfini büyük yapar.\n",
    "print(s.replace(\"e\", \"E\"))    #Seçili harfi dönüştürür.\n",
    "print(s.endswith(\"m\"))        #Sona bakar.\n",
    "print(s.startswith(\"H\"))      #Baş harfe bakar.\n",
    "print(s.find(\"a\"))            #Aranan harfi bulur. \n",
    "print(s.index(\"v\"))           #Aranan harfin indeksini bulur.ü\n",
    "print(s.count(\"n\"))           #Aranan harfi ilk hangi kelimede kaç tane oldugunu bulur.\n",
    "print(s.split())               \n",
    "print(s.strip())\n",
    "print(\"B\".join(s))            #Her harf arasına B katar.\n",
    "print(s.islower())\n",
    "print(s.isalpha())\n",
    "print(s.isdigit())"
   ]
  }
 ],
 "metadata": {
  "kernelspec": {
   "display_name": "Python 3.10.5 64-bit",
   "language": "python",
   "name": "python3"
  },
  "language_info": {
   "codemirror_mode": {
    "name": "ipython",
    "version": 3
   },
   "file_extension": ".py",
   "mimetype": "text/x-python",
   "name": "python",
   "nbconvert_exporter": "python",
   "pygments_lexer": "ipython3",
   "version": "3.11.9"
  },
  "orig_nbformat": 4,
  "vscode": {
   "interpreter": {
    "hash": "5026d2d6e7aaaaba093def813beadff083d8733e4a511af01735cbabd156995d"
   }
  }
 },
 "nbformat": 4,
 "nbformat_minor": 2
}
