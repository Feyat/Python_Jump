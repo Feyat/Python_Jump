{
 "cells": [
  {
   "attachments": {},
   "cell_type": "markdown",
   "metadata": {},
   "source": [
    "# Problem 1"
   ]
  },
  {
   "cell_type": "code",
   "execution_count": 354,
   "metadata": {},
   "outputs": [
    {
     "name": "stdout",
     "output_type": "stream",
     "text": [
      "[1 2 8 2 0]\n",
      "[1 2 8 2 0]\n",
      "[[1]\n",
      " [2]\n",
      " [8]\n",
      " [2]\n",
      " [0]]\n",
      "1\n"
     ]
    }
   ],
   "source": [
    "# 1 - numpy kütüphanesini import edin\n",
    "\n",
    "import numpy as a \n",
    "\n",
    "# 2 - 0 ile 10 arasında 5 sayıdan oluşan matris üretin\n",
    "\n",
    "m = a.random.randint(0,10, 5)\n",
    "print(m)\n",
    "\n",
    "# 3 - matris'in boyutunu öğrenin\n",
    "\n",
    "v = a.shape(m)\n",
    "print(m)\n",
    "\n",
    "\n",
    "# 4 - matris'i yeniden boyutlandırın\n",
    "v = m.reshape(5,1)\n",
    "print(v)\n",
    "\n",
    "# 5 - matris'in boyut sayısını öğrenin\n",
    "\n",
    "print(m.ndim)\n"
   ]
  },
  {
   "attachments": {},
   "cell_type": "markdown",
   "metadata": {},
   "source": [
    "# Problem 2"
   ]
  },
  {
   "cell_type": "code",
   "execution_count": 376,
   "metadata": {},
   "outputs": [
    {
     "name": "stdout",
     "output_type": "stream",
     "text": [
      "[1 3 5 7 9]\n",
      "[1]\n",
      "[3 5]\n",
      "[7 9]\n",
      "[1 3 5 7 9]\n"
     ]
    }
   ],
   "source": [
    "# 1 - 0 ile 10 arasında bulunan tek sayılardan oluşan matris üretin\n",
    "\n",
    "m = a.arange(1, 10, 2)\n",
    "print(m)\n",
    "\n",
    "# 2 - Oluşturduğunuz matrisi parçalayın\n",
    "\n",
    "v, b, c = a.split(m, [1, 3])\n",
    "print(v)\n",
    "print(b)\n",
    "print(c)\n",
    "\n",
    "# 3 - Parçalanmış matrisleri birleştirin\n",
    "print(a.concatenate([v, b, c]))\n",
    "\n"
   ]
  },
  {
   "attachments": {},
   "cell_type": "markdown",
   "metadata": {},
   "source": [
    "# Problem 3"
   ]
  },
  {
   "cell_type": "code",
   "execution_count": 427,
   "metadata": {},
   "outputs": [
    {
     "name": "stdout",
     "output_type": "stream",
     "text": [
      "[17 19 21 23 25 27 29 31 33 35]\n",
      "1\n",
      "(10,)\n",
      "10\n",
      "int64\n"
     ]
    }
   ],
   "source": [
    "# 1 - 5 ile 100 arasında ikişer ikişer atlayarak rastgele 10 sayıdan oluşan matris üretin\n",
    "\n",
    "m = a.random.randint(5, 100)\n",
    "m = a.array([m, m+2, m+4, m+6, m+8, m+10, m+12, m+14, m+16, m+18])\n",
    "print(m)\n",
    "\n",
    "# 2 - matris'in özelliklerini inceleyin\n",
    "\n",
    "print(m.ndim)\n",
    "print(m.shape)\n",
    "print(m.size)\n",
    "print(m.dtype)\n"
   ]
  },
  {
   "cell_type": "code",
   "execution_count": 433,
   "metadata": {},
   "outputs": [
    {
     "name": "stdout",
     "output_type": "stream",
     "text": [
      "20\n",
      "10\n"
     ]
    }
   ],
   "source": [
    "print(10 and 20)\n",
    "print(10 or 20)"
   ]
  }
 ],
 "metadata": {
  "kernelspec": {
   "display_name": "Python 3",
   "language": "python",
   "name": "python3"
  },
  "language_info": {
   "codemirror_mode": {
    "name": "ipython",
    "version": 3
   },
   "file_extension": ".py",
   "mimetype": "text/x-python",
   "name": "python",
   "nbconvert_exporter": "python",
   "pygments_lexer": "ipython3",
   "version": "3.11.9"
  },
  "orig_nbformat": 4,
  "vscode": {
   "interpreter": {
    "hash": "5026d2d6e7aaaaba093def813beadff083d8733e4a511af01735cbabd156995d"
   }
  }
 },
 "nbformat": 4,
 "nbformat_minor": 2
}
