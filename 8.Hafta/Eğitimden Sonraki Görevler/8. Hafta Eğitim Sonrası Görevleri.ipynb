{
 "cells": [
  {
   "attachments": {},
   "cell_type": "markdown",
   "metadata": {},
   "source": [
    "# Problem 1\n",
    "\n",
    "Şimdi beraber kullanıcılardan aldığımız verileri işleyerek, onlara hem çıktı verecek, hem de aldığımız ve hesapladığımız verileri ileride kullanabilmek adına kaydedeceğiz.\n",
    "\n",
    "\n",
    " **Bu bir veri giriş platformu olacak**\n",
    "\n",
    "\n",
    " * kullanıcıya kaç giriş yapacağını soracağız\n",
    "* kullanıcıdan isim-soyisim, yaş, boy, kilo bilgilerini alarak VKİ hesaplayacağız\n",
    "* ardından bunları sınıflara göre kaydedeceğiz bir dosyaya kaydedeceğiz\n",
    "\n",
    "\n",
    "Sınıflar ise şu şekilde: \n",
    "* 18, 5 kg/m.'nin altında olanlar: Zayıf\n",
    "* 18.5 – 24, 9 kg/m. arasında olanlar: Normal kilolu\n",
    "* 25 – 29, 9 kg/m. arasında olanlar: Fazla kilolu\n",
    "* 30 – 39, 9 kg/m. arasında olanlar: Obez\n",
    "* 40 kg/m.'nin üzerinde olanlar: İleri derecede obez (morbid obez), olarak görülür."
   ]
  },
  {
   "cell_type": "code",
   "execution_count": 12,
   "metadata": {},
   "outputs": [],
   "source": [
    "# 1.Problemin Çözümünü Buraya Yazınız\n",
    "def kitle_indeksi(vki):\n",
    "    if vki > 40:\n",
    "        return 'morbid obez'\n",
    "    elif vki > 30:\n",
    "        return 'Obez'\n",
    "    elif vki > 25:\n",
    "        return 'Fazla Kilolu'\n",
    "    elif vki > 18.5:\n",
    "        return 'Normal Kilolu'\n",
    "    else:\n",
    "        return 'Zayıf'    \n",
    "\n",
    "def vucut_indeksi(boy, kilo):\n",
    "    vki = kilo / (boy ** 2)\n",
    "    return round(vki, 1)\n",
    "\n",
    "def çıktı_oluştur(isim_soyisim, yas, boy, kilo, vki, durumu):\n",
    "    c = f'Ad-Soyisim: {isim_soyisim}, Yaş: {yas}, Boy: {boy}\\nKilo:{kilo}, VKİ: {vki}, durumu: {durumu}\\n'\n",
    "    return c \n",
    "def yazdırma(cikti):\n",
    "    with open('kişi_veri.txt', 'a', encoding = 'utf-8') as file:\n",
    "        file.write(cikti)\n",
    "\n",
    "N = input('Kaç giriş yapılacak: ')\n",
    "for i in range(int(N)):\n",
    "    isim_soyisim = input('Kullanıcının ismini ve soyismini giriniz: ')\n",
    "    yas = int(input('Kullanıcının yaşını giriniz: '))\n",
    "    boy = float(input('Kullanıcının boyunu giriniz (Lütfen metre cinsinden giriniz): '))\n",
    "    while boy > 4:\n",
    "        boy = int(input('Lütfen kullanıcının boyunu doğru giriniz (Lütfen metre cinsinden giriniz x.xx metodunda): '))\n",
    "    kilo = int(input('Kullanıcının kilosunu giriniz: '))\n",
    "    vki = vucut_indeksi(boy, kilo)\n",
    "    durumu = kitle_indeksi(vki)\n",
    "    cikti = çıktı_oluştur(isim_soyisim, yas, boy, kilo, vki, durumu)\n",
    "    yazdırma(cikti)\n",
    "\n",
    "    \n",
    "\n"
   ]
  },
  {
   "attachments": {},
   "cell_type": "markdown",
   "metadata": {},
   "source": [
    "# Problem 2\n",
    "**YetBar - Smoothie Bank**\n",
    "---\n",
    "YetBar spor salonunun girişinde bulunan, insansız bir sağlıklı içecek otomatıdır. Kullanıcı çeşitli girdiler smoothie içeceğine koyacağı ürünleri belirleyebilir, fiyat hesaplaması yaptırabilir ya da sadece menüyü görüntüleyebilir.\n",
    "\n",
    "**Projenin Amacı:**\n",
    "\n",
    "*   Birbirini etkileyen ve bir kod içerisinde birden fazla defa başvurulacak fonksiyonların oluşturulup, \"fonksiyonel\" proglamlamak.\n",
    "*   Büyük programları yazarken, yazılımcı olarak yapabileceğimiz hatalardan kaçınmak için kontrol yöntemleri geliştirmek.\n",
    "*   Kullanıcı inputlarını ve yaptığımız hesapları, raporlamak/loglamak amacıyla kaydetmek.\n",
    "\n",
    "**Programdan Beklenen Çıktılar**\n",
    "* Program kullanıcıya temelde 2 farklı işlem yapma imkanı sağlar.\n",
    "> 1. Menüyü görüntüleme\n",
    "> 2. Satın alma\n",
    "* Satın alınan her içecek tarih, fiyat bilgisi ile kaydedilmeli ve her zaman ulaşılabilir olmalıdır.\n",
    "\n",
    "\n"
   ]
  },
  {
   "cell_type": "code",
   "execution_count": 8,
   "metadata": {},
   "outputs": [
    {
     "name": "stdout",
     "output_type": "stream",
     "text": [
      "0\n"
     ]
    }
   ],
   "source": [
    "menu = {\n",
    "    'Yeşil Smoothie': 12.5,\n",
    "    'Meyve Smoothie': 10.0,\n",
    "    'Protein Shake': 15.75,\n",
    "    'Antrenman Boost': 18.0 \n",
    "}\n",
    "\n",
    "class Person():\n",
    "    def __init__(self, toplam = 0):\n",
    "        self.toplam = toplam\n",
    "    \n",
    "    def menu(self):\n",
    "        for item in menu:\n",
    "            print(f'{item.upper()}: {menu[item]}')\n",
    "    \n",
    "    def satın_alma(self):\n",
    "        while True:\n",
    "            alma = input('Almak istediginiz iceceği isteyiniz: ')\n",
    "            if alma not in menu:\n",
    "                break\n",
    "            adet = input('Almak istediğiniz adeti giriniz: ')\n",
    "            if alma in menu:\n",
    "                self.toplam += float(menu.get(alma))* float(adet)\n",
    "        print(self.toplam)\n",
    "a = Person()\n",
    "\n",
    "while True:\n",
    "    girdi = input('Girdi giriniz: ')\n",
    "    if girdi == '1':\n",
    "        a.menu()\n",
    "        break\n",
    "    if girdi =='2':\n",
    "        a.satın_alma()\n",
    "        break"
   ]
  }
 ],
 "metadata": {
  "kernelspec": {
   "display_name": "Python 3",
   "language": "python",
   "name": "python3"
  },
  "language_info": {
   "codemirror_mode": {
    "name": "ipython",
    "version": 3
   },
   "file_extension": ".py",
   "mimetype": "text/x-python",
   "name": "python",
   "nbconvert_exporter": "python",
   "pygments_lexer": "ipython3",
   "version": "3.11.9"
  },
  "orig_nbformat": 4,
  "vscode": {
   "interpreter": {
    "hash": "5026d2d6e7aaaaba093def813beadff083d8733e4a511af01735cbabd156995d"
   }
  }
 },
 "nbformat": 4,
 "nbformat_minor": 2
}
